{
 "cells": [
  {
   "cell_type": "code",
   "execution_count": 119,
   "metadata": {},
   "outputs": [],
   "source": [
    "%matplotlib inline\n",
    "\n",
    "# bunch of required imports\n",
    "from __future__ import division, print_function\n",
    "import os, json\n",
    "from glob import glob\n",
    "import numpy as np\n",
    "from matplotlib import pyplot as plt\n",
    "import utils; reload(utils)\n",
    "import md_utils; reload(md_utils)\n",
    "from md_utils import KaggleClient\n",
    "from utils import plots\n",
    "import math\n",
    "\n",
    "from zipfile import ZipFile\n",
    "\n",
    "np.set_printoptions(precision=4, linewidth=100)"
   ]
  },
  {
   "cell_type": "code",
   "execution_count": 120,
   "metadata": {},
   "outputs": [],
   "source": [
    "base_data_path = 'data/dogscats-submission'\n",
    "kaggle_client = KaggleClient()"
   ]
  },
  {
   "cell_type": "markdown",
   "metadata": {},
   "source": [
    "## Process\n",
    "#### Data Prep\n",
    "- fetch the dataset, if it's not already present\n",
    "- create dirs for training, validation, and test\n",
    "    - separate dogs/cats into their respective dirs (for training and validation)\n",
    "    - create an `unknown` directory under `test`: Keras looks for directories of content under a specified path, so this just makes things simpler\n",
    "\n",
    "#### Model Prep\n",
    "- load the VGG16 model and ImageNet trained weights\n",
    "- finetune the model using the training and validation sets\n",
    "    - prune the last layer of the VGG model\n",
    "    - add a dense layer to categorize dogs vs. cats\n",
    "\n",
    "#### Execute Predictions\n",
    "- run predictions on against `test` and format the predictions accordingly"
   ]
  },
  {
   "cell_type": "code",
   "execution_count": 121,
   "metadata": {},
   "outputs": [
    {
     "name": "stdout",
     "output_type": "stream",
     "text": [
      "data\n",
      "└── dogscats\n",
      "    ├── models\n",
      "    ├── sample\n",
      "    │   ├── train\n",
      "    │   │   ├── cats\n",
      "    │   │   └── dogs\n",
      "    │   └── valid\n",
      "    │       ├── cats\n",
      "    │       └── dogs\n",
      "    ├── test1\n",
      "    │   └── unknown\n",
      "    ├── train\n",
      "    │   ├── cats\n",
      "    │   └── dogs\n",
      "    └── valid\n",
      "        ├── cats\n",
      "        └── dogs\n",
      "\n",
      "17 directories\n"
     ]
    }
   ],
   "source": [
    "# Here's our current data layout\n",
    "!tree -d data"
   ]
  },
  {
   "cell_type": "markdown",
   "metadata": {},
   "source": [
    "## Data Prep"
   ]
  },
  {
   "cell_type": "code",
   "execution_count": 122,
   "metadata": {},
   "outputs": [
    {
     "name": "stdout",
     "output_type": "stream",
     "text": [
      "downloading https://www.kaggle.com/c/dogs-vs-cats-redux-kernels-edition/download/test.zip\n",
      "\n"
     ]
    },
    {
     "name": "stderr",
     "output_type": "stream",
     "text": [
      "test.zip 100% |#####################################| Time: 0:00:50   5.4 MiB/s\n"
     ]
    },
    {
     "name": "stdout",
     "output_type": "stream",
     "text": [
      "\n",
      "downloading https://www.kaggle.com/c/dogs-vs-cats-redux-kernels-edition/download/train.zip\n",
      "\n"
     ]
    },
    {
     "name": "stderr",
     "output_type": "stream",
     "text": [
      "train.zip 100% |####################################| Time: 0:01:35   5.7 MiB/s\n"
     ]
    },
    {
     "name": "stdout",
     "output_type": "stream",
     "text": [
      "\n",
      "downloading https://www.kaggle.com/c/dogs-vs-cats-redux-kernels-edition/download/sample_submission.csv\n",
      "\n"
     ]
    },
    {
     "name": "stderr",
     "output_type": "stream",
     "text": [
      "sample_submission.csv 100% |########################| Time: 0:00:00 262.1 KiB/s\n"
     ]
    },
    {
     "name": "stdout",
     "output_type": "stream",
     "text": [
      "\n"
     ]
    }
   ],
   "source": [
    "# check to see if we data under `base_data_path`\n",
    "data_exists = os.path.exists(base_data_path)\n",
    "\n",
    "if not data_exists:\n",
    "    kaggle_client.download_dataset('dogs-vs-cats-redux-kernels-edition', base_data_path)\n",
    "    \n",
    "    # segment the `train` dataset into training and validation sets\n",
    "    training_set = np.random.permutation(glob(os.path.join(base_data_path, 'train', '*.jpg')))\n",
    "    validation_size = int(len(training_set) * 0.2)\n",
    "    for validation_file in training_set[:validation_size]:\n",
    "        os.renames(validation_file, os.path.join(base_data_path, 'valid', os.path.basename(validation_file).split('.')[0], os.path.basename(validation_file)))\n",
    "    \n",
    "    for training_file in training_set[validation_size:]:\n",
    "        os.renames(training_file, os.path.join(base_data_path, 'train', os.path.basename(training_file).split('.')[0], os.path.basename(training_file)))\n",
    "        \n",
    "    # move all test files into an `unknown` sub-directory\n",
    "    # do this my moving the directory into a tmp location, then moving into the desired path\n",
    "    os.renames(os.path.join(base_data_path, 'test'), os.path.join(base_data_path, 'tmp', 'unknown'))\n",
    "    os.renames(os.path.join(base_data_path, 'tmp', 'unknown'), os.path.join(base_data_path, 'test', 'unknown'))"
   ]
  },
  {
   "cell_type": "code",
   "execution_count": 202,
   "metadata": {},
   "outputs": [],
   "source": [
    "# using the sample dir locally\n",
    "base_data_path = 'data/dogscats/sample'\n",
    "\n",
    "# set a conservative batch size\n",
    "batch_size = 8\n",
    "nb_epoch = 1\n",
    "\n",
    "# batch_size = 64\n",
    "# nb_epoch = 5"
   ]
  },
  {
   "cell_type": "code",
   "execution_count": 203,
   "metadata": {},
   "outputs": [
    {
     "name": "stdout",
     "output_type": "stream",
     "text": [
      "Found 16 images belonging to 2 classes.\n",
      "Found 8 images belonging to 2 classes.\n"
     ]
    }
   ],
   "source": [
    "from vgg16 import Vgg16\n",
    "vgg = Vgg16()\n",
    "\n",
    "# set the learning rate\n",
    "# vgg.model.optimizer.lr = 0.01\n",
    "\n",
    "train_batches = vgg.get_batches(os.path.join(base_data_path, 'train'), batch_size=batch_size)\n",
    "validation_batches = vgg.get_batches(os.path.join(base_data_path, 'valid'), batch_size=batch_size * 2)"
   ]
  },
  {
   "cell_type": "code",
   "execution_count": 204,
   "metadata": {},
   "outputs": [
    {
     "name": "stdout",
     "output_type": "stream",
     "text": [
      "Epoch 1/1\n",
      "16/16 [==============================] - 22s - loss: 2.4968 - acc: 0.5625 - val_loss: 0.7374 - val_acc: 0.7500\n"
     ]
    }
   ],
   "source": [
    "vgg.finetune(train_batches)\n",
    "vgg.fit(train_batches, validation_batches, nb_epoch=nb_epoch)"
   ]
  },
  {
   "cell_type": "code",
   "execution_count": 205,
   "metadata": {},
   "outputs": [
    {
     "name": "stdout",
     "output_type": "stream",
     "text": [
      "Found 16 images belonging to 2 classes.\n"
     ]
    }
   ],
   "source": [
    "test_batches, preds = vgg.test('data/dogscats/sample/train')\n",
    "# test_batches, preds = vgg.test(os.path.join(base_data_path, 'test'))\n",
    "\n",
    "dog_pred_index = test_batches.class_indices['dogs']"
   ]
  },
  {
   "cell_type": "code",
   "execution_count": 206,
   "metadata": {},
   "outputs": [],
   "source": [
    "ids = [os.path.basename(result).split('.')[1] for result in test_batches.filenames]\n",
    "results = np.column_stack((ids, preds[:, dog_pred_index]))"
   ]
  },
  {
   "cell_type": "code",
   "execution_count": 207,
   "metadata": {},
   "outputs": [
    {
     "data": {
      "text/html": [
       "<a href='data/test-results.csv' target='_blank'>data/test-results.csv</a><br>"
      ],
      "text/plain": [
       "/Users/mdodsworth/dev/personal/fast.ai/deeplearning1/nbs/data/test-results.csv"
      ]
     },
     "execution_count": 207,
     "metadata": {},
     "output_type": "execute_result"
    }
   ],
   "source": [
    "np.savetxt('data/test-results.csv', results, fmt='%s', delimiter=',', header='id,label', comments='')\n",
    "from IPython.display import FileLink\n",
    "FileLink('data/test-results.csv')"
   ]
  }
 ],
 "metadata": {
  "kernelspec": {
   "display_name": "Python 2",
   "language": "python",
   "name": "python2"
  },
  "language_info": {
   "codemirror_mode": {
    "name": "ipython",
    "version": 2
   },
   "file_extension": ".py",
   "mimetype": "text/x-python",
   "name": "python",
   "nbconvert_exporter": "python",
   "pygments_lexer": "ipython2",
   "version": "2.7.14"
  }
 },
 "nbformat": 4,
 "nbformat_minor": 2
}
