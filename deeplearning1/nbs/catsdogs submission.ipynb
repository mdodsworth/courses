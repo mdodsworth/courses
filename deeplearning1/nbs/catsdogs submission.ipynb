{
 "cells": [
  {
   "cell_type": "code",
   "execution_count": 9,
   "metadata": {},
   "outputs": [],
   "source": [
    "%matplotlib inline\n",
    "\n",
    "# bunch of required imports\n",
    "from __future__ import division, print_function\n",
    "import os, json\n",
    "from glob import glob\n",
    "import numpy as np\n",
    "from matplotlib import pyplot as plt\n",
    "import utils; reload(utils)\n",
    "from utils import plots\n",
    "\n",
    "np.set_printoptions(precision=4, linewidth=100)"
   ]
  },
  {
   "cell_type": "code",
   "execution_count": 12,
   "metadata": {},
   "outputs": [
    {
     "name": "stdout",
     "output_type": "stream",
     "text": [
      "data\n",
      "└── dogscats\n",
      "    ├── models\n",
      "    ├── sample\n",
      "    │   ├── train\n",
      "    │   │   ├── cats\n",
      "    │   │   └── dogs\n",
      "    │   └── valid\n",
      "    │       ├── cats\n",
      "    │       └── dogs\n",
      "    ├── test1\n",
      "    │   └── unknown\n",
      "    ├── train\n",
      "    │   ├── cats\n",
      "    │   └── dogs\n",
      "    └── valid\n",
      "        ├── cats\n",
      "        └── dogs\n",
      "\n",
      "17 directories\n"
     ]
    }
   ],
   "source": [
    "# data is in the following directory layout\n",
    "!tree -d data"
   ]
  },
  {
   "cell_type": "code",
   "execution_count": 13,
   "metadata": {},
   "outputs": [],
   "source": [
    "# using the sample dir locally\n",
    "path = 'data/dogscats/sample/'"
   ]
  },
  {
   "cell_type": "code",
   "execution_count": null,
   "metadata": {},
   "outputs": [],
   "source": []
  }
 ],
 "metadata": {
  "kernelspec": {
   "display_name": "Python 2",
   "language": "python",
   "name": "python2"
  },
  "language_info": {
   "codemirror_mode": {
    "name": "ipython",
    "version": 2
   },
   "file_extension": ".py",
   "mimetype": "text/x-python",
   "name": "python",
   "nbconvert_exporter": "python",
   "pygments_lexer": "ipython2",
   "version": "2.7.14"
  }
 },
 "nbformat": 4,
 "nbformat_minor": 2
}
